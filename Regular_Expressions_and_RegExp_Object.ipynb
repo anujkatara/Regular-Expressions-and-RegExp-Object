{
 "cells": [
  {
   "cell_type": "code",
   "execution_count": 1,
   "metadata": {},
   "outputs": [],
   "source": [
    "import re"
   ]
  },
  {
   "cell_type": "code",
   "execution_count": 2,
   "metadata": {},
   "outputs": [
    {
     "name": "stdout",
     "output_type": "stream",
     "text": [
      "found word:cat\n"
     ]
    }
   ],
   "source": [
    "# re.match() function checks for a match only at the beginning of the string (by default)\n",
    "\n",
    "# \\w(lowercase w) matches a \"word\" character: a letter or digit or underbar [a-zA-Z0-9_].\n",
    "# Note that although \"word\" is the mnemonic for this, it only matches a single word char,\n",
    "# not a whole word. \\W (upper case W) matches any non-word character\n",
    "\n",
    "str = 'word:cat and example!!'\n",
    "match = re.match(r'word:\\w\\w\\w', str)\n",
    "\n",
    "if match:\n",
    "  print 'found', match.group()\n",
    "else:\n",
    "  print 'did not find'\n"
   ]
  },
  {
   "cell_type": "code",
   "execution_count": 3,
   "metadata": {},
   "outputs": [
    {
     "data": {
      "text/plain": [
       "'iii'"
      ]
     },
     "execution_count": 3,
     "metadata": {},
     "output_type": "execute_result"
    }
   ],
   "source": [
    "# re.search() function checks for a match anywhere in the string.\n",
    "# On success, match.group() is matched text.\n",
    "\n",
    "match = re.search(r'iii', 'piiig')\n",
    "match.group()  "
   ]
  },
  {
   "cell_type": "code",
   "execution_count": 4,
   "metadata": {},
   "outputs": [
    {
     "data": {
      "text/plain": [
       "'yzzg'"
      ]
     },
     "execution_count": 4,
     "metadata": {},
     "output_type": "execute_result"
    }
   ],
   "source": [
    "# .(period) matches any single character except single line \\n\n",
    "\n",
    "match = re.search(r'...g', 'yzzgpiiig')\n",
    "match.group()"
   ]
  },
  {
   "cell_type": "code",
   "execution_count": 5,
   "metadata": {},
   "outputs": [
    {
     "name": "stdout",
     "output_type": "stream",
     "text": [
      "123\n",
      "a12\n",
      "\t \n",
      "\n"
     ]
    }
   ],
   "source": [
    "# \\d -- decimal digit [0-9] (some older regex utilities do not support but \\d, but they all support \\w and \\s)\n",
    "# \\s -- (lowercase s) matches a single whitespace character -- space, newline, return, tab, form [ \\n\\r\\t\\f].\n",
    "# \\S (upper case S) matches any non-whitespace character.\n",
    "\n",
    "match = re.search(r'\\d\\d\\d', 'a123x')\n",
    "print match.group()\n",
    "match = re.search(r'\\w\\w\\w', 'a123x')\n",
    "print match.group()\n",
    "match = re.search(r'\\s\\s\\s', '\\t \\n')\n",
    "print match.group()"
   ]
  },
  {
   "cell_type": "code",
   "execution_count": 6,
   "metadata": {},
   "outputs": [
    {
     "name": "stdout",
     "output_type": "stream",
     "text": [
      "piii\n",
      "p\n",
      "pi\n"
     ]
    }
   ],
   "source": [
    "# + -- 1 or more occurrences of the pattern to its left, e.g. 'i+' = one or more i's\n",
    "# * -- 0 or more occurrences of the pattern to its left\n",
    "# ? -- match 0 or 1 occurrences of the pattern to its left\n",
    "\n",
    "match = re.search(r'pi+', 'piiigpii')\n",
    "print match.group()\n",
    "match = re.search(r'pi*', 'pgii')\n",
    "print match.group()\n",
    "match = re.search(r'pi?', 'piiigii')\n",
    "print match.group()"
   ]
  },
  {
   "cell_type": "code",
   "execution_count": 7,
   "metadata": {},
   "outputs": [
    {
     "name": "stdout",
     "output_type": "stream",
     "text": [
      "True\n",
      "True\n",
      "True\n"
     ]
    }
   ],
   "source": [
    "  ## \\s* = zero or more whitespace chars\n",
    "  ## Here look for 3 digits, possibly separated by whitespace.\n",
    "match = re.search(r'\\d\\s*\\d\\s*\\d', 'xx1 2   3xx') \n",
    "print match.group() == \"1 2   3\"\n",
    "match = re.search(r'\\d\\s*\\d\\s*\\d', 'xx12  3xx')  \n",
    "print match.group() == \"12  3\"\n",
    "match = re.search(r'\\d\\s*\\d\\s*\\d', 'xx123xx')  \n",
    "print match.group() == \"123\""
   ]
  },
  {
   "cell_type": "code",
   "execution_count": 8,
   "metadata": {},
   "outputs": [
    {
     "name": "stdout",
     "output_type": "stream",
     "text": [
      "bca\n",
      "ake\n"
     ]
    }
   ],
   "source": [
    "# ^ = matches the start of the string\n",
    "\n",
    "match = re.search(r'^b\\w+', 'bca')\n",
    "print match.group()\n",
    "\n",
    "# \\t - Lowercase t. Matches tab.\n",
    "# $ - Matches a pattern at the end of string.\n",
    "match = re.search(r'ake$', 'Eatcake')\n",
    "print match.group()  "
   ]
  },
  {
   "cell_type": "code",
   "execution_count": 9,
   "metadata": {},
   "outputs": [
    {
     "name": "stdout",
     "output_type": "stream",
     "text": [
      "<_sre.SRE_Match object at 0x7ff41bf95ac0>\n",
      "anujkatara7@gmail\n"
     ]
    }
   ],
   "source": [
    "# Email example\n",
    "\n",
    "str = 'anujkatara7@gmail.com'\n",
    "email = re.search(r'\\w+@\\w+', str)\n",
    "if match:\n",
    "    print email\n",
    "    print email.group()\n",
    "else:\n",
    "    print \"no match\"\n",
    "    \n",
    "# Note : The search does not get the whole email address in this case\n",
    "# because the \\w does not match the '-' or '.' in the address."
   ]
  },
  {
   "cell_type": "code",
   "execution_count": 10,
   "metadata": {},
   "outputs": [
    {
     "name": "stdout",
     "output_type": "stream",
     "text": [
      "bob-marley78@yopmail.com\n"
     ]
    }
   ],
   "source": [
    "# Squares Bracket\n",
    "\n",
    "str = 'bob-marley78@yopmail.com'\n",
    "email = re.search(r'[\\w.-]+@[\\w.-]+', str)\n",
    "print email.group()"
   ]
  },
  {
   "cell_type": "code",
   "execution_count": 11,
   "metadata": {},
   "outputs": [
    {
     "name": "stdout",
     "output_type": "stream",
     "text": [
      "hhz\n"
     ]
    }
   ],
   "source": [
    "# An up-hat/caret (^) at the start of a square-bracket set inverts it, so [^ab] means any char except 'a' or 'b'.\n",
    "\n",
    "match = re.search(r'[^ba]+', 'hhz')\n",
    "print match.group()"
   ]
  },
  {
   "cell_type": "code",
   "execution_count": 12,
   "metadata": {},
   "outputs": [
    {
     "name": "stdout",
     "output_type": "stream",
     "text": [
      "bob marley-b@yopmail.com manana\n",
      "bob marley-b\n",
      "yopmail.com manana\n"
     ]
    }
   ],
   "source": [
    "# Group Extraction\n",
    "# The \"group\" feature of a regular expression allows you to pick out parts of the matching text.\n",
    "# for an example username@host for sepration of username and host we use () paranthesis.\n",
    "# match.group(1) is the match text corresponding to the 1st left parenthesis, \n",
    "# and match.group(2) is the text corresponding to the 2nd left parenthesis.\n",
    "\n",
    "str = 'bob marley-b@yopmail.com manana'\n",
    "match = re.search(r'([\\w\\s.-]+)@([\\w\\s.-]+)', str)\n",
    "if match:\n",
    "    print match.group() \n",
    "    print match.group(1)\n",
    "    print match.group(2)\n"
   ]
  },
  {
   "cell_type": "code",
   "execution_count": 13,
   "metadata": {},
   "outputs": [
    {
     "name": "stdout",
     "output_type": "stream",
     "text": [
      "bob marley-b@yopmail.com manana\n",
      " bob marley-b@yopmail.com manana\n"
     ]
    }
   ],
   "source": [
    "# re.search() to find the first match for a pattern.\n",
    "# findall() finds *all* the matches and returns them as a list of strings, with each string representing one match.\n",
    "\n",
    "str = 'bob marley-b@yopmail.com manana, bob marley-b@yopmail.com manana'\n",
    "emails = re.findall(r'[\\w\\s.-]+@[\\w\\s.-]+', str)\n",
    "for email in emails:\n",
    "    print email"
   ]
  },
  {
   "cell_type": "code",
   "execution_count": 14,
   "metadata": {},
   "outputs": [
    {
     "name": "stdout",
     "output_type": "stream",
     "text": [
      "abc\n"
     ]
    }
   ],
   "source": [
    "#find all method with file\n",
    "# Open file\n",
    "f = open('test.txt', 'r')\n",
    "# Feed the file text into findall(); it returns a list of all the found strings\n",
    "strings = re.findall(r'^ab\\w', f.read())\n",
    "for string in strings:\n",
    "    print string\n",
    "        "
   ]
  },
  {
   "cell_type": "code",
   "execution_count": 15,
   "metadata": {},
   "outputs": [
    {
     "name": "stdout",
     "output_type": "stream",
     "text": [
      "bob marley-b\n",
      "yopmail.com manana\n",
      " bob marley-b\n",
      "yopmail.com manana\n"
     ]
    }
   ],
   "source": [
    "# findall() and groupd \n",
    "str = 'bob marley-b@yopmail.com manana, bob marley-b@yopmail.com manana'\n",
    "tuples = re.findall(r'([\\w\\s.-]+)@([\\w\\s.-]+)', str)\n",
    "for tuple in tuples:\n",
    "    print tuple[0]\n",
    "    print tuple[1]"
   ]
  },
  {
   "cell_type": "code",
   "execution_count": 16,
   "metadata": {},
   "outputs": [
    {
     "name": "stdout",
     "output_type": "stream",
     "text": [
      "Cookie\n",
      "Cookie\n"
     ]
    }
   ],
   "source": [
    "# \\A - Uppercase a. Matches only at the start of the string. Works across multiple lines as well.\n",
    "# \\b - Lowercase b. Matches only the beginning or end of the word.\n",
    "print re.search(r'\\A[A-E]ookie', 'Cookie').group()\n",
    "print re.search(r'\\b[A-E]ookie', 'Cookie').group()\n"
   ]
  },
  {
   "cell_type": "code",
   "execution_count": 17,
   "metadata": {},
   "outputs": [
    {
     "name": "stdout",
     "output_type": "stream",
     "text": [
      "Back\\stail\n",
      "Back tail\n"
     ]
    }
   ],
   "source": [
    "# This checks for '\\' in the string instead of '\\s' due to the '\\' used \n",
    "print re.search(r'Back\\\\stail', 'Back\\stail').group()\n",
    "# This treats '\\s' as an escape character because it lacks '\\' at the start of '\\s'\n",
    "print re.search(r'Back\\stail', 'Back tail').group()"
   ]
  },
  {
   "cell_type": "code",
   "execution_count": 18,
   "metadata": {},
   "outputs": [
    {
     "name": "stdout",
     "output_type": "stream",
     "text": [
      "0987654321\n"
     ]
    }
   ],
   "source": [
    "# {x} - Repeat exactly x number of times.\n",
    "\n",
    "# {x,} - Repeat at least x times or more.\n",
    "\n",
    "# {x, y} - Repeat at least x times but no more than y times.\n",
    "\n",
    "print re.search(r'\\d{9,10}', '0987654321').group()"
   ]
  },
  {
   "cell_type": "code",
   "execution_count": 19,
   "metadata": {},
   "outputs": [
    {
     "data": {
      "text/plain": [
       "'<h1>TITLE</h1>'"
      ]
     },
     "execution_count": 19,
     "metadata": {},
     "output_type": "execute_result"
    }
   ],
   "source": [
    "# The pattern <.*> matched the whole string, right up to the second occurrence of >\n",
    "heading  = r'<h1>TITLE</h1>'\n",
    "re.match(r'<.*>', heading).group()"
   ]
  },
  {
   "cell_type": "code",
   "execution_count": 20,
   "metadata": {},
   "outputs": [
    {
     "data": {
      "text/plain": [
       "'<h1'"
      ]
     },
     "execution_count": 20,
     "metadata": {},
     "output_type": "execute_result"
    }
   ],
   "source": [
    "# There is an extension to regular expression where you add a ? at the end,\n",
    "# such as .*? or .+?, changing them to be non-greedy.\n",
    "heading  = r'<h1>TITLE</h1>'\n",
    "re.match(r'[^>]*', heading).group()"
   ]
  },
  {
   "cell_type": "code",
   "execution_count": 21,
   "metadata": {},
   "outputs": [
    {
     "name": "stdout",
     "output_type": "stream",
     "text": [
      "radha shyam@yo-yo-dyne.com, bob marley@yo-yo-dyne.com blah\n",
      "radha google.com@yo-yo-dyne.com, bob abc.com@yo-yo-dyne.com blah\n"
     ]
    }
   ],
   "source": [
    "# The re.sub(pat, replacement, str) function searches for all the instances of pattern in the given string, \n",
    "# and replaces them. \n",
    "str = 'radha shyam@google.com, bob marley@abc.com blah'\n",
    "## \\1 is group(1), \\2 group(2) in the replacement\n",
    "print re.sub(r'([\\w\\.-]+)@([\\w\\.-]+)', r'\\1@yo-yo-dyne.com', str)\n",
    "print re.sub(r'([\\w\\.-]+)@([\\w\\.-]+)', r'\\2@yo-yo-dyne.com', str)"
   ]
  },
  {
   "cell_type": "code",
   "execution_count": 22,
   "metadata": {},
   "outputs": [
    {
     "name": "stdout",
     "output_type": "stream",
     "text": [
      "cookie\n"
     ]
    }
   ],
   "source": [
    "# When you need to use an expression several times in a single program, \n",
    "# using the compile(sequence, flags) function to save the resulting regular\n",
    "# expression object for reuse is more efficient.\n",
    "\n",
    "pattern  = re.compile(r\"cookie\")\n",
    "sequence = \"Cake and cookie\"\n",
    "print pattern.search(sequence).group()"
   ]
  },
  {
   "cell_type": "code",
   "execution_count": 39,
   "metadata": {},
   "outputs": [
    {
     "name": "stdout",
     "output_type": "stream",
     "text": [
      "280\n",
      "373\n",
      "0\n"
     ]
    }
   ],
   "source": [
    "import re\n",
    "import requests\n",
    "the_idiot_url = 'https://www.gutenberg.org/files/2638/2638-0.txt'\n",
    "\n",
    "def get_book(url):\n",
    "    # Sends a http request to get the text from project Gutenberg\n",
    "    raw = requests.get(url).text\n",
    "    # Discards the metadata from the beginning of the book\n",
    "    start = re.search(r\"\\*\\*\\* START OF THIS PROJECT GUTENBERG EBOOK .* \\*\\*\\*\",raw ).end()\n",
    "    # Discards the metadata from the end of the book\n",
    "    stop = re.search(r\"II\", raw).start()\n",
    "    # Keeps the relevant text\n",
    "    text = raw[start:stop]\n",
    "    return text\n",
    "\n",
    "def preprocess(sentence): \n",
    "    return re.sub('[^A-Za-z0-9.\\\"]+' , ' ', sentence)\n",
    "book = get_book(the_idiot_url)\n",
    "processed_book = preprocess(book)\n",
    "# print(processed_book)\n",
    "print len(re.findall(r'the', processed_book))\n",
    "print len(re.findall(r',', book))\n",
    "print len(re.findall(r'\\\"', book))\n"
   ]
  },
  {
   "cell_type": "code",
   "execution_count": null,
   "metadata": {},
   "outputs": [],
   "source": []
  }
 ],
 "metadata": {
  "kernelspec": {
   "display_name": "Python 2",
   "language": "python",
   "name": "python2"
  },
  "language_info": {
   "codemirror_mode": {
    "name": "ipython",
    "version": 2
   },
   "file_extension": ".py",
   "mimetype": "text/x-python",
   "name": "python",
   "nbconvert_exporter": "python",
   "pygments_lexer": "ipython2",
   "version": "2.7.15rc1"
  }
 },
 "nbformat": 4,
 "nbformat_minor": 2
}
