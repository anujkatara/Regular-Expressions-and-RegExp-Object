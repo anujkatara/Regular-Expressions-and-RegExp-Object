{
 "cells": [
  {
   "cell_type": "code",
   "execution_count": 4,
   "metadata": {},
   "outputs": [],
   "source": [
    "import re"
   ]
  },
  {
   "cell_type": "code",
   "execution_count": 82,
   "metadata": {},
   "outputs": [
    {
     "name": "stdout",
     "output_type": "stream",
     "text": [
      "found word:cat\n"
     ]
    }
   ],
   "source": [
    "# re.match() function checks for a match only at the beginning of the string (by default)\n",
    "\n",
    "# \\w(lowercase w) matches a \"word\" character: a letter or digit or underbar [a-zA-Z0-9_].\n",
    "# Note that although \"word\" is the mnemonic for this, it only matches a single word char,\n",
    "# not a whole word. \\W (upper case W) matches any non-word character\n",
    "\n",
    "str = 'word:cat and example!!'\n",
    "match = re.match(r'word:\\w\\w\\w', str)\n",
    "\n",
    "if match:\n",
    "  print 'found', match.group()\n",
    "else:\n",
    "  print 'did not find'\n"
   ]
  },
  {
   "cell_type": "code",
   "execution_count": 6,
   "metadata": {},
   "outputs": [
    {
     "data": {
      "text/plain": [
       "'iii'"
      ]
     },
     "execution_count": 6,
     "metadata": {},
     "output_type": "execute_result"
    }
   ],
   "source": [
    "# re.search() function checks for a match anywhere in the string.\n",
    "# On success, match.group() is matched text.\n",
    "\n",
    "match = re.search(r'iii', 'piiig')\n",
    "match.group()  "
   ]
  },
  {
   "cell_type": "code",
   "execution_count": 7,
   "metadata": {},
   "outputs": [
    {
     "data": {
      "text/plain": [
       "'yzzg'"
      ]
     },
     "execution_count": 7,
     "metadata": {},
     "output_type": "execute_result"
    }
   ],
   "source": [
    "# .(period) matches any single character except single line \\n\n",
    "\n",
    "match = re.search(r'...g', 'yzzgpiiig')\n",
    "match.group()"
   ]
  },
  {
   "cell_type": "code",
   "execution_count": 8,
   "metadata": {},
   "outputs": [
    {
     "name": "stdout",
     "output_type": "stream",
     "text": [
      "123\n",
      "a12\n",
      "\t \n",
      "\n"
     ]
    }
   ],
   "source": [
    "# \\d -- decimal digit [0-9] (some older regex utilities do not support but \\d, but they all support \\w and \\s)\n",
    "# \\s -- (lowercase s) matches a single whitespace character -- space, newline, return, tab, form [ \\n\\r\\t\\f].\n",
    "# \\S (upper case S) matches any non-whitespace character.\n",
    "\n",
    "match = re.search(r'\\d\\d\\d', 'a123x')\n",
    "print match.group()\n",
    "match = re.search(r'\\w\\w\\w', 'a123x')\n",
    "print match.group()\n",
    "match = re.search(r'\\s\\s\\s', '\\t \\n')\n",
    "print match.group()"
   ]
  },
  {
   "cell_type": "code",
   "execution_count": 53,
   "metadata": {},
   "outputs": [
    {
     "name": "stdout",
     "output_type": "stream",
     "text": [
      "piii\n",
      "p\n",
      "pi\n"
     ]
    }
   ],
   "source": [
    "# + -- 1 or more occurrences of the pattern to its left, e.g. 'i+' = one or more i's\n",
    "# * -- 0 or more occurrences of the pattern to its left\n",
    "# ? -- match 0 or 1 occurrences of the pattern to its left\n",
    "\n",
    "match = re.search(r'pi+', 'piiigpii')\n",
    "print match.group()\n",
    "match = re.search(r'pi*', 'pgii')\n",
    "print match.group()\n",
    "match = re.search(r'pi?', 'piiigii')\n",
    "print match.group()"
   ]
  },
  {
   "cell_type": "code",
   "execution_count": 15,
   "metadata": {},
   "outputs": [
    {
     "name": "stdout",
     "output_type": "stream",
     "text": [
      "True\n",
      "True\n",
      "True\n"
     ]
    }
   ],
   "source": [
    "  ## \\s* = zero or more whitespace chars\n",
    "  ## Here look for 3 digits, possibly separated by whitespace.\n",
    "match = re.search(r'\\d\\s*\\d\\s*\\d', 'xx1 2   3xx') \n",
    "print match.group() == \"1 2   3\"\n",
    "match = re.search(r'\\d\\s*\\d\\s*\\d', 'xx12  3xx')  \n",
    "print match.group() == \"12  3\"\n",
    "match = re.search(r'\\d\\s*\\d\\s*\\d', 'xx123xx')  \n",
    "print match.group() == \"123\""
   ]
  },
  {
   "cell_type": "code",
   "execution_count": 38,
   "metadata": {},
   "outputs": [
    {
     "name": "stdout",
     "output_type": "stream",
     "text": [
      "bca\n"
     ]
    }
   ],
   "source": [
    "# ^ = matches the start of the string\n",
    "\n",
    "match = re.search(r'^b\\w+', 'bca')\n",
    "print match.group()"
   ]
  },
  {
   "cell_type": "code",
   "execution_count": 83,
   "metadata": {},
   "outputs": [
    {
     "name": "stdout",
     "output_type": "stream",
     "text": [
      "<_sre.SRE_Match object at 0x7f0c6a183e68>\n",
      "anujkatara7@gmail\n"
     ]
    }
   ],
   "source": [
    "# Email example\n",
    "\n",
    "str = 'anujkatara7@gmail.com'\n",
    "email = re.search(r'\\w+@\\w+', str)\n",
    "if match:\n",
    "    print email\n",
    "    print email.group()\n",
    "else:\n",
    "    print \"no match\"\n",
    "    \n",
    "# Note : The search does not get the whole email address in this case\n",
    "# because the \\w does not match the '-' or '.' in the address."
   ]
  },
  {
   "cell_type": "code",
   "execution_count": 84,
   "metadata": {},
   "outputs": [
    {
     "name": "stdout",
     "output_type": "stream",
     "text": [
      "bob-marley78@yopmail.com\n"
     ]
    }
   ],
   "source": [
    "# Squares Bracket\n",
    "\n",
    "str = 'bob-marley78@yopmail.com'\n",
    "email = re.search(r'[\\w.-]+@[\\w.-]+', str)\n",
    "print email.group()"
   ]
  },
  {
   "cell_type": "code",
   "execution_count": 48,
   "metadata": {},
   "outputs": [
    {
     "name": "stdout",
     "output_type": "stream",
     "text": [
      "hhz\n"
     ]
    }
   ],
   "source": [
    "# An up-hat/caret (^) at the start of a square-bracket set inverts it, so [^ab] means any char except 'a' or 'b'.\n",
    "\n",
    "match = re.search(r'[^ba]+', 'hhz')\n",
    "print match.group()"
   ]
  },
  {
   "cell_type": "code",
   "execution_count": 52,
   "metadata": {},
   "outputs": [
    {
     "name": "stdout",
     "output_type": "stream",
     "text": [
      "bob marley-b@yopmail.com manana\n",
      "bob marley-b\n",
      "yopmail.com manana\n"
     ]
    }
   ],
   "source": [
    "# Group Extraction\n",
    "# The \"group\" feature of a regular expression allows you to pick out parts of the matching text.\n",
    "# for an example username@host for sepration of username and host we use () paranthesis.\n",
    "# match.group(1) is the match text corresponding to the 1st left parenthesis, \n",
    "# and match.group(2) is the text corresponding to the 2nd left parenthesis.\n",
    "\n",
    "str = 'bob marley-b@yopmail.com manana'\n",
    "match = re.search(r'([\\w\\s.-]+)@([\\w\\s.-]+)', str)\n",
    "if match:\n",
    "    print match.group() \n",
    "    print match.group(1)\n",
    "    print match.group(2)\n"
   ]
  },
  {
   "cell_type": "code",
   "execution_count": 57,
   "metadata": {},
   "outputs": [
    {
     "name": "stdout",
     "output_type": "stream",
     "text": [
      "['bob marley-b@yopmail.com manana', ' bob marley-b@yopmail.com manana']\n"
     ]
    }
   ],
   "source": [
    "# re.search() to find the first match for a pattern.\n",
    "# findall() finds *all* the matches and returns them as a list of strings, with each string representing one match.\n",
    "\n",
    "str = 'bob marley-b@yopmail.com manana, bob marley-b@yopmail.com manana'\n",
    "emails = re.findall(r'[\\w\\s.-]+@[\\w\\s.-]+', str)\n",
    "print emails"
   ]
  },
  {
   "cell_type": "code",
   "execution_count": null,
   "metadata": {},
   "outputs": [],
   "source": []
  }
 ],
 "metadata": {
  "kernelspec": {
   "display_name": "Python 2",
   "language": "python",
   "name": "python2"
  },
  "language_info": {
   "codemirror_mode": {
    "name": "ipython",
    "version": 2
   },
   "file_extension": ".py",
   "mimetype": "text/x-python",
   "name": "python",
   "nbconvert_exporter": "python",
   "pygments_lexer": "ipython2",
   "version": "2.7.15rc1"
  }
 },
 "nbformat": 4,
 "nbformat_minor": 2
}
